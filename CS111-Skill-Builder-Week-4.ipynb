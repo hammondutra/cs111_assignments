{
 "cells": [
  {
   "cell_type": "code",
   "execution_count": 1,
   "id": "b4a22d",
   "metadata": {
    "collapsed": false,
    "vscode": {
     "languageId": "python"
    }
   },
   "outputs": [
    {
     "name": "stderr",
     "output_type": "stream",
     "text": [
      "Matplotlib is building the font cache; this may take a moment.\n"
     ]
    },
    {
     "data": {
      "image/png": "[encoded data removed]",
      "text/plain": [
       "Graphics object consisting of 4 graphics primitives"
      ]
     },
     "metadata": {},
     "output_type": "display_data"
    }
   ],
   "source": [
    "\"\"\"\n",
    "(a) Graph both x^(1/3) and its linear approximation on the same plot, displaying x values in the interval [0, 16]. What is the exact value of (8.1)^(1/3) and its approximate value from your linear approximation? Compute the relative error.\n",
    "\"\"\"\n",
    "\n",
    "# Declaring \\sqrt[3]{x}\n",
    "f(x) = x^(1/3)\n",
    "\n",
    "# Declaring l(x) (linear approximation of f(x))\n",
    "l(x) = (1/12)*x + (4/3)\n",
    "\n",
    "# Creating the function plot for [0, 16]\n",
    "P1 = plot(f(x), (x, 0, 16), color = \"blue\", alpha = 0.8, legend_label=r\"$f(x) = \\sqrt[3]{x}$\")\n",
    "P2 = plot(l(x), (x, 0, 16), color = \"red\", alpha = 0.8, legend_label=r\"$l(x) = \\frac{1}{12}\\cdot x + \\frac{4}{3}$\")\n",
    "\n",
    "# Additional features for visualization\n",
    "P3 = point((8, 2), color='red', size=20) # Adds a point at the tangency (8, 2)\n",
    "P4 = vertical_line = line([(8, 0), (8, 2.7)], color=\"gray\", linestyle=\"--\") # Adds vertical line to indicate point of tangency at x = 8\n",
    "\n",
    "# Displaying the plot\n",
    "show_all = P1 + P2 + P3 + P4\n",
    "show_all.show(aspect_ratio=1)"
   ]
  },
  {
   "cell_type": "code",
   "execution_count": null,
   "id": "b4336d",
   "metadata": {
    "collapsed": false,
    "vscode": {
     "languageId": "python"
    }
   },
   "outputs": [],
   "source": [
    "\"\"\"\n",
    "(a) Graph both x^(1/3) and its linear approximation on the same plot, displaying x values in the interval [0, 16]. What is the exact value of (8.1)^(1/3) and its approximate value from your linear approximation? Compute the relative error.\n",
    "\"\"\"\n",
    "\n",
    "# Redefining the boundaries of f(x) for [4, 12] for better visualization\n",
    "P1 = plot(f(x), (x, 4, 12), color = \"blue\", alpha = 0.8, legend_label=r\"$f(x) = \\sqrt[3]{x}$\")\n",
    "P2 = plot(l(x), (x, 4, 12), color = \"red\", alpha = 0.8, legend_label=r\"$l(x) = \\frac{1}{12}\\cdot x + \\frac{4}{3}$\")\n",
    "\n",
    "# Update the value of the predicted point using l(x)\n",
    "P3 = point((8.1, l(8.1)), color='red', size=20) # Adds a point at the tangency (8.1, l(8.1))\n",
    "P4 = vertical_line = line([(8.1, 0), (8.1, 2.7)], color=\"gray\", linestyle=\"--\") # Adds vertical line to indicate point of tangency at x = 8.1\n",
    "\n",
    "# Displaying the plot\n",
    "show_all = P1 + P2 + P3 + P4\n",
    "show_all.show(aspect_ratio=1)\n",
    "\n",
    "# Calculating the error \\eta between f(8.1) and l(8.1)\n",
    "eta_l = abs((f(8.1) - l(8.1)) / f(8.1))\n",
    "\n",
    "print(f\"The value of (8.1)^(1/3) (rounded to 6 decimal places) is: {round(f(8.1), 6)}\\n\")\n",
    "print(f\"The approximate value of (8.1)^(1/3) (rounded to 6 decimal places) using the linear approximation from l(x) and P(8, 2) is: {round(l(8.1), 6)}\\n\")\n",
    "print(f\"The error eta between f(8.1) and l(8.1) is: {eta_l}\")\n"
   ]
  },
  {
   "cell_type": "code",
   "execution_count": null,
   "id": "2d203c",
   "metadata": {
    "collapsed": false,
    "vscode": {
     "languageId": "python"
    }
   },
   "outputs": [],
   "source": [
    "\"\"\"\n",
    "(b) Find a quadratic approximation to $f(x) = sqrt[3]{x}$ near $x=8$. Graph both $sqrt[3]{x}$, its linear approximation, and its quadratic approximation on the same plot (using the same scale as before). What is the approximate value of $sqrt[3]{8.1}$ from your quadratic approximation? Compute the relative error.\n",
    "\"\"\"\n",
    "\n",
    "q(x) = -(1/288)*(x^2) + (5/36)*x + (10/9)\n",
    "\n",
    "# Redefining the boundaries of f(x) for [0, 16]\n",
    "P1 = plot(f(x), (x, 0, 16), color = \"blue\", alpha = 0.8, legend_label=r\"$f(x) = \\sqrt[3]{x}$\")\n",
    "P2 = plot(l(x), (x, 0, 16), color = \"red\", alpha = 0.8, legend_label=r\"$l(x) = \\frac{1}{12}\\cdot x + \\frac{4}{3}$\")\n",
    "P3 = plot(q(x), (x, 0, 16), color = \"purple\", alpha = 0.8, legend_label=r\"$q(x) = -\\frac{1}{288}x^2 + \\frac{5}{36}x + \\frac{10}{9}$\")\n",
    "\n",
    "# Update the value of the predicted point using q(x)\n",
    "P4 = point((8.1, q(8.1)), color='purple', size=20) # Adds a point at the tangency (8.1, q(8.1))\n",
    "P5 = vertical_line = line([(8.1, 0), (8.1, 2.7)], color=\"gray\", linestyle=\"--\") # Adds vertical line to indicate point of tangency at x = 8.1\n",
    "\n",
    "# Displaying the plot\n",
    "show_all = P1 + P2 + P3 + P4 + P5\n",
    "show_all.show(aspect_ratio=1)\n",
    "\n",
    "# Calculating the error \\eta between f(8.1) and l(8.1)\n",
    "eta_l = abs((f(8.1) - l(8.1)) / f(8.1))\n",
    "eta_q = abs((f(8.1) - q(8.1)) / f(8.1))\n",
    "\n",
    "\n",
    "print(f\"The value of (8.1)^(1/3) (rounded to 6 decimal places) is: {round(f(8.1), 6)}\\n\")\n",
    "print(f\"The approximate value of (8.1)^(1/3) (rounded to 6 decimal places) using the linear approximation from l(x) and P(8, 2) is: {round(l(8.1), 6)}\\n\")\n",
    "print(f\"The error eta of the linear approximation of f(8.1) is: {round(eta_l, 10)}\\n\\n\")\n",
    "\n",
    "print(f\"The approximate value of (8.1)^(1/3) (rounded to 6 decimal places) using the quadratic approximation from q(x) and P(8, 2) is: {round(q(8.1), 6)}\\n\")\n",
    "print(f\"The error eta of the quadratic approximation of f(8.1) is: {round(eta_q, 10)}\\n\\n\")\n",
    "\n"
   ]
  },
  {
   "cell_type": "code",
   "execution_count": null,
   "id": "1c0636",
   "metadata": {
    "collapsed": false,
    "vscode": {
     "languageId": "python"
    }
   },
   "outputs": [],
   "source": [
    "\"\"\"\n",
    "(c) We can continue to add terms to our approximation. Find a formula for the \"cubic approximation\" C(x) of a function g(x) around x = x_0. You should leave your answer in terms of g and its derivatives\n",
    "\"\"\"\n",
    "\n",
    "c(x) = 2 + (1/12)*(x-8) + (-1/288)*((x-8)^2) + (5/20736*((x-8)^3))\n",
    "\n",
    "# Redefining the boundaries of f(x) for [0, 16]\n",
    "P1 = plot(f(x), (x, 0, 16), color = \"blue\", alpha = 0.8, legend_label=r\"$f(x) = \\sqrt[3]{x}$\")\n",
    "P2 = plot(l(x), (x, 0, 16), color = \"red\", alpha = 0.8, legend_label=r\"$l(x) = \\frac{1}{12}\\cdot x + \\frac{4}{3}$\")\n",
    "P3 = plot(q(x), (x, 0, 16), color = \"purple\", alpha = 0.8, legend_label=r\"$q(x) = -\\frac{1}{288}x^2 + \\frac{5}{36}x + \\frac{10}{9}$\")\n",
    "P4 = plot(c(x), (x, 0, 16), color = \"black\", alpha = 0.8, legend_label=r\"$c(x) = 2 + \\frac{1}{12}\\cdot (x-8) - \\frac{1}{288}\\cdot (x-8)^2 + \\frac{5}{20736} \\cdot (x-8)^3$\")\n",
    "\n",
    "# Update the value of the predicted point using c(x)\n",
    "P5 = point((8.1, c(8.1)), color='purple', size=20) # Adds a point at the tangency (8.1, c(8.1))\n",
    "P6 = vertical_line = line([(8.1, 0), (8.1, 2.7)], color=\"gray\", linestyle=\"--\") # Adds vertical line to indicate point of tangency at x = 8.1\n",
    "\n",
    "# Displaying the plot\n",
    "show_all = P1 + P2 + P3 + P4 + P5 + P6\n",
    "show_all.show() # Removed the aspect_ratio=1 for better visualization\n",
    "\n",
    "# Calculating the error \\eta between f(8.1) and l(8.1)\n",
    "eta_l = abs((f(8.1) - l(8.1)) / f(8.1))\n",
    "eta_q = abs((f(8.1) - q(8.1)) / f(8.1))\n",
    "eta_c = abs((f(8.1) - c(8.1)) / f(8.1))\n",
    "\n",
    "\n",
    "print(f\"The value of (8.1)^(1/3) (rounded to 6 decimal places) is: {round(f(8.1), 6)}\\n\")\n",
    "print(f\"The approximate value of (8.1)^(1/3) (rounded to 6 decimal places) using the linear approximation from l(x) and P(8, 2) is: {round(l(8.1), 6)}\\n\")\n",
    "print(f\"The error eta of the linear approximation of f(8.1) is: {round(eta_l, 10)}\\n\\n\")\n",
    "\n",
    "print(f\"The approximate value of (8.1)^(1/3) (rounded to 6 decimal places) using the quadratic approximation from q(x) and P(8, 2) is: {round(q(8.1), 6)}\\n\")\n",
    "print(f\"The error eta of the quadratic approximation of f(8.1) is: {round(eta_q, 10)}\\n\\n\")\n",
    "                                                \n",
    "print(f\"The approximate value of (8.1)^(1/3) (rounded to 6 decimal places) using the cubic approximation from c(x) and P(8, 2) is: {round(c(8.1), 6)}\\n\")\n",
    "print(f\"The error eta of the cubic approximation of f(8.1) is: {round(eta_c, 10)}\\n\\n\")"
   ]
  }
 ],
 "metadata": {
  "kernelspec": {
   "argv": [
    "sage-10.7",
    "--python",
    "-m",
    "sage.repl.ipython_kernel",
    "--matplotlib=inline",
    "-f",
    "{connection_file}"
   ],
   "display_name": "SageMath 10.7",
   "env": {},
   "language": "sage",
   "name": "SageMath-10.7",
   "resource_dir": "/ext/jupyter/kernels/sage-10.7"
  },
  "language_info": {
   "codemirror_mode": {
    "name": "ipython",
    "version": 3
   },
   "file_extension": ".py",
   "mimetype": "text/x-python",
   "name": "sage",
   "nbconvert_exporter": "python",
   "pygments_lexer": "ipython3",
   "version": "3.13.3"
  }
 },
 "nbformat": 4,
 "nbformat_minor": 4
}
