{
 "cells": [
  {
   "cell_type": "code",
   "execution_count": 11,
   "id": "2468ad3a",
   "metadata": {
    "vscode": {
     "languageId": "sage"
    }
   },
   "outputs": [
    {
     "name": "stdout",
     "output_type": "stream",
     "text": [
      "f_x is: 2*x*e^y\n"
     ]
    }
   ],
   "source": [
    "var(\"x, y\")\n",
    "\n",
    "# Declaring the function f(x, y)\n",
    "f(x, y) = (x^2 - y^2)*e^y\n",
    "\n",
    "# Computing ∂f/∂x\n",
    "f_x = f.diff(x).full_simplify()\n",
    "\n",
    "print(f\"f_x is: {df_dx}\")"
   ]
  },
  {
   "cell_type": "code",
   "execution_count": 12,
   "id": "cd4d74df",
   "metadata": {
    "vscode": {
     "languageId": "sage"
    }
   },
   "outputs": [
    {
     "name": "stdout",
     "output_type": "stream",
     "text": [
      "f_y is: (x^2 - y^2 - 2*y)*e^y\n"
     ]
    }
   ],
   "source": [
    "# Computing ∂f/∂y\n",
    "f_y = f.diff(y).full_simplify()\n",
    "\n",
    "print(f\"f_y is: {df_dy}\")"
   ]
  },
  {
   "cell_type": "code",
   "execution_count": 13,
   "id": "99a2ba41",
   "metadata": {
    "vscode": {
     "languageId": "sage"
    }
   },
   "outputs": [
    {
     "name": "stdout",
     "output_type": "stream",
     "text": [
      "f_xx is: 2*e^y\n"
     ]
    }
   ],
   "source": [
    "# Computing ∂^2f/∂x^2\n",
    "f_xx = f_x.diff(x).full_simplify()\n",
    "\n",
    "print(f\"f_xx is: {f_xx}\")"
   ]
  },
  {
   "cell_type": "code",
   "execution_count": 15,
   "id": "1f1202a9",
   "metadata": {
    "vscode": {
     "languageId": "sage"
    }
   },
   "outputs": [
    {
     "name": "stdout",
     "output_type": "stream",
     "text": [
      "f_yy is: (x^2 - y^2 - 4*y - 2)*e^y\n"
     ]
    }
   ],
   "source": [
    "# Computing ∂^2f/∂y^2\n",
    "f_yy = f_y.diff(y).full_simplify()\n",
    "\n",
    "print(f\"f_yy is: {f_yy}\")"
   ]
  },
  {
   "cell_type": "code",
   "execution_count": 19,
   "id": "02044ad7",
   "metadata": {
    "vscode": {
     "languageId": "sage"
    }
   },
   "outputs": [
    {
     "name": "stdout",
     "output_type": "stream",
     "text": [
      "f_xy is: 2*x*e^y\n",
      "f_yx is: 2*x*e^y\n"
     ]
    }
   ],
   "source": [
    "# Computing ∂^2f/∂x∂y\n",
    "f_xy = f_x.diff(y).full_simplify()\n",
    "\n",
    "print(f\"f_xy is: {f_xy}\")\n",
    "\n",
    "# Computing ∂^2f/∂y∂x\n",
    "f_yx = f_y.diff(x).full_simplify()\n",
    "\n",
    "print(f\"f_yx is: {f_yx}\")"
   ]
  }
 ],
 "metadata": {
  "kernelspec": {
   "display_name": "SageMath 10.7",
   "language": "sage",
   "name": "SageMath-10.7"
  },
  "language_info": {
   "codemirror_mode": {
    "name": "ipython",
    "version": 3
   },
   "file_extension": ".py",
   "mimetype": "text/x-python",
   "name": "python",
   "nbconvert_exporter": "python",
   "pygments_lexer": "ipython3",
   "version": "3.13.3"
  }
 },
 "nbformat": 4,
 "nbformat_minor": 5
}
